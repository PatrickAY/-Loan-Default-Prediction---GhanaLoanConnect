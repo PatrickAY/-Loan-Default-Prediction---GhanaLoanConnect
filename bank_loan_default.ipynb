{
  "cells": [
    {
      "cell_type": "code",
      "source": [
        "from google.colab import files\n",
        "uploaded = files.upload()"
      ],
      "metadata": {
        "colab": {
          "base_uri": "https://localhost:8080/",
          "height": 72
        },
        "id": "aPIgNhh0XVJS",
        "outputId": "4accccdd-e94d-4bb2-e0fd-4e875402c96e"
      },
      "id": "aPIgNhh0XVJS",
      "execution_count": null,
      "outputs": [
        {
          "output_type": "display_data",
          "data": {
            "text/plain": [
              "<IPython.core.display.HTML object>"
            ],
            "text/html": [
              "\n",
              "     <input type=\"file\" id=\"files-0cd57a49-26b3-4483-83df-7160c49f191b\" name=\"files[]\" multiple disabled\n",
              "        style=\"border:none\" />\n",
              "     <output id=\"result-0cd57a49-26b3-4483-83df-7160c49f191b\">\n",
              "      Upload widget is only available when the cell has been executed in the\n",
              "      current browser session. Please rerun this cell to enable.\n",
              "      </output>\n",
              "      <script>// Copyright 2017 Google LLC\n",
              "//\n",
              "// Licensed under the Apache License, Version 2.0 (the \"License\");\n",
              "// you may not use this file except in compliance with the License.\n",
              "// You may obtain a copy of the License at\n",
              "//\n",
              "//      http://www.apache.org/licenses/LICENSE-2.0\n",
              "//\n",
              "// Unless required by applicable law or agreed to in writing, software\n",
              "// distributed under the License is distributed on an \"AS IS\" BASIS,\n",
              "// WITHOUT WARRANTIES OR CONDITIONS OF ANY KIND, either express or implied.\n",
              "// See the License for the specific language governing permissions and\n",
              "// limitations under the License.\n",
              "\n",
              "/**\n",
              " * @fileoverview Helpers for google.colab Python module.\n",
              " */\n",
              "(function(scope) {\n",
              "function span(text, styleAttributes = {}) {\n",
              "  const element = document.createElement('span');\n",
              "  element.textContent = text;\n",
              "  for (const key of Object.keys(styleAttributes)) {\n",
              "    element.style[key] = styleAttributes[key];\n",
              "  }\n",
              "  return element;\n",
              "}\n",
              "\n",
              "// Max number of bytes which will be uploaded at a time.\n",
              "const MAX_PAYLOAD_SIZE = 100 * 1024;\n",
              "\n",
              "function _uploadFiles(inputId, outputId) {\n",
              "  const steps = uploadFilesStep(inputId, outputId);\n",
              "  const outputElement = document.getElementById(outputId);\n",
              "  // Cache steps on the outputElement to make it available for the next call\n",
              "  // to uploadFilesContinue from Python.\n",
              "  outputElement.steps = steps;\n",
              "\n",
              "  return _uploadFilesContinue(outputId);\n",
              "}\n",
              "\n",
              "// This is roughly an async generator (not supported in the browser yet),\n",
              "// where there are multiple asynchronous steps and the Python side is going\n",
              "// to poll for completion of each step.\n",
              "// This uses a Promise to block the python side on completion of each step,\n",
              "// then passes the result of the previous step as the input to the next step.\n",
              "function _uploadFilesContinue(outputId) {\n",
              "  const outputElement = document.getElementById(outputId);\n",
              "  const steps = outputElement.steps;\n",
              "\n",
              "  const next = steps.next(outputElement.lastPromiseValue);\n",
              "  return Promise.resolve(next.value.promise).then((value) => {\n",
              "    // Cache the last promise value to make it available to the next\n",
              "    // step of the generator.\n",
              "    outputElement.lastPromiseValue = value;\n",
              "    return next.value.response;\n",
              "  });\n",
              "}\n",
              "\n",
              "/**\n",
              " * Generator function which is called between each async step of the upload\n",
              " * process.\n",
              " * @param {string} inputId Element ID of the input file picker element.\n",
              " * @param {string} outputId Element ID of the output display.\n",
              " * @return {!Iterable<!Object>} Iterable of next steps.\n",
              " */\n",
              "function* uploadFilesStep(inputId, outputId) {\n",
              "  const inputElement = document.getElementById(inputId);\n",
              "  inputElement.disabled = false;\n",
              "\n",
              "  const outputElement = document.getElementById(outputId);\n",
              "  outputElement.innerHTML = '';\n",
              "\n",
              "  const pickedPromise = new Promise((resolve) => {\n",
              "    inputElement.addEventListener('change', (e) => {\n",
              "      resolve(e.target.files);\n",
              "    });\n",
              "  });\n",
              "\n",
              "  const cancel = document.createElement('button');\n",
              "  inputElement.parentElement.appendChild(cancel);\n",
              "  cancel.textContent = 'Cancel upload';\n",
              "  const cancelPromise = new Promise((resolve) => {\n",
              "    cancel.onclick = () => {\n",
              "      resolve(null);\n",
              "    };\n",
              "  });\n",
              "\n",
              "  // Wait for the user to pick the files.\n",
              "  const files = yield {\n",
              "    promise: Promise.race([pickedPromise, cancelPromise]),\n",
              "    response: {\n",
              "      action: 'starting',\n",
              "    }\n",
              "  };\n",
              "\n",
              "  cancel.remove();\n",
              "\n",
              "  // Disable the input element since further picks are not allowed.\n",
              "  inputElement.disabled = true;\n",
              "\n",
              "  if (!files) {\n",
              "    return {\n",
              "      response: {\n",
              "        action: 'complete',\n",
              "      }\n",
              "    };\n",
              "  }\n",
              "\n",
              "  for (const file of files) {\n",
              "    const li = document.createElement('li');\n",
              "    li.append(span(file.name, {fontWeight: 'bold'}));\n",
              "    li.append(span(\n",
              "        `(${file.type || 'n/a'}) - ${file.size} bytes, ` +\n",
              "        `last modified: ${\n",
              "            file.lastModifiedDate ? file.lastModifiedDate.toLocaleDateString() :\n",
              "                                    'n/a'} - `));\n",
              "    const percent = span('0% done');\n",
              "    li.appendChild(percent);\n",
              "\n",
              "    outputElement.appendChild(li);\n",
              "\n",
              "    const fileDataPromise = new Promise((resolve) => {\n",
              "      const reader = new FileReader();\n",
              "      reader.onload = (e) => {\n",
              "        resolve(e.target.result);\n",
              "      };\n",
              "      reader.readAsArrayBuffer(file);\n",
              "    });\n",
              "    // Wait for the data to be ready.\n",
              "    let fileData = yield {\n",
              "      promise: fileDataPromise,\n",
              "      response: {\n",
              "        action: 'continue',\n",
              "      }\n",
              "    };\n",
              "\n",
              "    // Use a chunked sending to avoid message size limits. See b/62115660.\n",
              "    let position = 0;\n",
              "    do {\n",
              "      const length = Math.min(fileData.byteLength - position, MAX_PAYLOAD_SIZE);\n",
              "      const chunk = new Uint8Array(fileData, position, length);\n",
              "      position += length;\n",
              "\n",
              "      const base64 = btoa(String.fromCharCode.apply(null, chunk));\n",
              "      yield {\n",
              "        response: {\n",
              "          action: 'append',\n",
              "          file: file.name,\n",
              "          data: base64,\n",
              "        },\n",
              "      };\n",
              "\n",
              "      let percentDone = fileData.byteLength === 0 ?\n",
              "          100 :\n",
              "          Math.round((position / fileData.byteLength) * 100);\n",
              "      percent.textContent = `${percentDone}% done`;\n",
              "\n",
              "    } while (position < fileData.byteLength);\n",
              "  }\n",
              "\n",
              "  // All done.\n",
              "  yield {\n",
              "    response: {\n",
              "      action: 'complete',\n",
              "    }\n",
              "  };\n",
              "}\n",
              "\n",
              "scope.google = scope.google || {};\n",
              "scope.google.colab = scope.google.colab || {};\n",
              "scope.google.colab._files = {\n",
              "  _uploadFiles,\n",
              "  _uploadFilesContinue,\n",
              "};\n",
              "})(self);\n",
              "</script> "
            ]
          },
          "metadata": {}
        },
        {
          "output_type": "stream",
          "name": "stdout",
          "text": [
            "Saving loan_borrower_data.csv to loan_borrower_data.csv\n"
          ]
        }
      ]
    },
    {
      "cell_type": "markdown",
      "id": "intro",
      "metadata": {
        "id": "intro"
      },
      "source": [
        "# Case Study – Banking & Loans in Ghana\n",
        "### Focus: Reducing Non-Performing Loans (NPLs)\n",
        "\n",
        "Welcome to the assignment on reducing Non-Performing Loans (NPLs) at GhanaLoanConnect. In this project, you will build a supervised learning model to predict whether a borrower is likely to default on a loan. Use this notebook as a guide to complete your work."
      ]
    },
    {
      "cell_type": "markdown",
      "id": "business-challenge",
      "metadata": {
        "id": "business-challenge"
      },
      "source": [
        "## Business Challenge\n",
        "\n",
        "GhanaLoanConnect is a peer-to-peer lending platform that connects borrowers with lenders. Your task is to develop a machine learning model that predicts loan default. The main objectives are:\n",
        "\n",
        "- **Minimize the risk of non-performing loans (NPLs).**\n",
        "- **Enable informed decision-making in the loan approval process.**"
      ]
    },
    {
      "cell_type": "markdown",
      "id": "dataset-overview",
      "metadata": {
        "id": "dataset-overview"
      },
      "source": [
        "## Dataset Overview\n",
        "\n",
        "The dataset `loan_borrower_data.csv` contains approximately 9,578 records with the following key attributes:\n",
        "\n",
        "- **credit.policy:** 1 if the borrower meets the credit approval standards, 0 otherwise.\n",
        "- **purpose:** The intended use of the loan (e.g., `credit_card`, `debt_consolidation`, etc.).\n",
        "- **int.rate:** The interest rate of the loan (e.g., 0.11 for 11%).\n",
        "- **installment:** The monthly repayment amount.\n",
        "- **log.annual.inc:** The natural logarithm of the borrower’s annual income.\n",
        "\n",
        "Make sure to load this dataset into your notebook."
      ]
    },
    {
      "cell_type": "code",
      "execution_count": null,
      "id": "import-data",
      "metadata": {
        "colab": {
          "base_uri": "https://localhost:8080/"
        },
        "id": "import-data",
        "outputId": "4cf6c5c8-f049-40d1-d396-616495dcd259"
      },
      "outputs": [
        {
          "output_type": "stream",
          "name": "stdout",
          "text": [
            "   credit.policy             purpose  int.rate  installment  log.annual.inc  \\\n",
            "0              1  debt_consolidation    0.1189       829.10       11.350407   \n",
            "1              1         credit_card    0.1071       228.22       11.082143   \n",
            "2              1  debt_consolidation    0.1357       366.86       10.373491   \n",
            "3              1  debt_consolidation    0.1008       162.34       11.350407   \n",
            "4              1         credit_card    0.1426       102.92       11.299732   \n",
            "\n",
            "     dti  fico  days.with.cr.line  revol.bal  revol.util  inq.last.6mths  \\\n",
            "0  19.48   737        5639.958333      28854        52.1               0   \n",
            "1  14.29   707        2760.000000      33623        76.7               0   \n",
            "2  11.63   682        4710.000000       3511        25.6               1   \n",
            "3   8.10   712        2699.958333      33667        73.2               1   \n",
            "4  14.97   667        4066.000000       4740        39.5               0   \n",
            "\n",
            "   delinq.2yrs  pub.rec  not.fully.paid  \n",
            "0            0        0               0  \n",
            "1            0        0               0  \n",
            "2            0        0               0  \n",
            "3            0        0               0  \n",
            "4            1        0               0  \n"
          ]
        }
      ],
      "source": [
        "# Import necessary libraries\n",
        "import pandas as pd\n",
        "import numpy as np\n",
        "import matplotlib.pyplot as plt\n",
        "import seaborn as sns\n",
        "\n",
        "from sklearn.model_selection import train_test_split, cross_val_score\n",
        "from sklearn.linear_model import LogisticRegression\n",
        "from sklearn.ensemble import RandomForestClassifier\n",
        "from sklearn.metrics import (accuracy_score, precision_score, recall_score,\n",
        "                             f1_score, roc_auc_score, confusion_matrix,\n",
        "                             classification_report)\n",
        "\n",
        "# Load the dataset\n",
        "data = pd.read_csv('loan_borrower_data.csv')\n",
        "print(data.head())"
      ]
    },
    {
      "cell_type": "markdown",
      "id": "data-exploration",
      "metadata": {
        "id": "data-exploration"
      },
      "source": [
        "## 1. Data Exploration\n",
        "\n",
        "Explore the dataset by checking its structure, missing values, and basic statistics. Answer the following questions:\n",
        "\n",
        "- What are the data types of each column?\n",
        "- Are there any missing or anomalous values?\n",
        "- What is the distribution of the target variable?\n"
      ]
    },
    {
      "cell_type": "code",
      "execution_count": null,
      "id": "data-exploration-code",
      "metadata": {
        "colab": {
          "base_uri": "https://localhost:8080/",
          "height": 1000
        },
        "id": "data-exploration-code",
        "outputId": "fdd56e7c-1b07-4616-fe0a-92de5e0fc1d9"
      },
      "outputs": [
        {
          "output_type": "stream",
          "name": "stdout",
          "text": [
            "<class 'pandas.core.frame.DataFrame'>\n",
            "RangeIndex: 9578 entries, 0 to 9577\n",
            "Data columns (total 14 columns):\n",
            " #   Column             Non-Null Count  Dtype  \n",
            "---  ------             --------------  -----  \n",
            " 0   credit.policy      9578 non-null   int64  \n",
            " 1   purpose            9578 non-null   object \n",
            " 2   int.rate           9578 non-null   float64\n",
            " 3   installment        9578 non-null   float64\n",
            " 4   log.annual.inc     9578 non-null   float64\n",
            " 5   dti                9578 non-null   float64\n",
            " 6   fico               9578 non-null   int64  \n",
            " 7   days.with.cr.line  9578 non-null   float64\n",
            " 8   revol.bal          9578 non-null   int64  \n",
            " 9   revol.util         9578 non-null   float64\n",
            " 10  inq.last.6mths     9578 non-null   int64  \n",
            " 11  delinq.2yrs        9578 non-null   int64  \n",
            " 12  pub.rec            9578 non-null   int64  \n",
            " 13  not.fully.paid     9578 non-null   int64  \n",
            "dtypes: float64(6), int64(7), object(1)\n",
            "memory usage: 1.0+ MB\n",
            "None\n",
            "       credit.policy     int.rate  installment  log.annual.inc          dti  \\\n",
            "count    9578.000000  9578.000000  9578.000000     9578.000000  9578.000000   \n",
            "mean        0.804970     0.122640   319.089413       10.932117    12.606679   \n",
            "std         0.396245     0.026847   207.071301        0.614813     6.883970   \n",
            "min         0.000000     0.060000    15.670000        7.547502     0.000000   \n",
            "25%         1.000000     0.103900   163.770000       10.558414     7.212500   \n",
            "50%         1.000000     0.122100   268.950000       10.928884    12.665000   \n",
            "75%         1.000000     0.140700   432.762500       11.291293    17.950000   \n",
            "max         1.000000     0.216400   940.140000       14.528354    29.960000   \n",
            "\n",
            "              fico  days.with.cr.line     revol.bal   revol.util  \\\n",
            "count  9578.000000        9578.000000  9.578000e+03  9578.000000   \n",
            "mean    710.846314        4560.767197  1.691396e+04    46.799236   \n",
            "std      37.970537        2496.930377  3.375619e+04    29.014417   \n",
            "min     612.000000         178.958333  0.000000e+00     0.000000   \n",
            "25%     682.000000        2820.000000  3.187000e+03    22.600000   \n",
            "50%     707.000000        4139.958333  8.596000e+03    46.300000   \n",
            "75%     737.000000        5730.000000  1.824950e+04    70.900000   \n",
            "max     827.000000       17639.958330  1.207359e+06   119.000000   \n",
            "\n",
            "       inq.last.6mths  delinq.2yrs      pub.rec  not.fully.paid  \n",
            "count     9578.000000  9578.000000  9578.000000     9578.000000  \n",
            "mean         1.577469     0.163708     0.062122        0.160054  \n",
            "std          2.200245     0.546215     0.262126        0.366676  \n",
            "min          0.000000     0.000000     0.000000        0.000000  \n",
            "25%          0.000000     0.000000     0.000000        0.000000  \n",
            "50%          1.000000     0.000000     0.000000        0.000000  \n",
            "75%          2.000000     0.000000     0.000000        0.000000  \n",
            "max         33.000000    13.000000     5.000000        1.000000  \n",
            "credit.policy        0\n",
            "purpose              0\n",
            "int.rate             0\n",
            "installment          0\n",
            "log.annual.inc       0\n",
            "dti                  0\n",
            "fico                 0\n",
            "days.with.cr.line    0\n",
            "revol.bal            0\n",
            "revol.util           0\n",
            "inq.last.6mths       0\n",
            "delinq.2yrs          0\n",
            "pub.rec              0\n",
            "not.fully.paid       0\n",
            "dtype: int64\n"
          ]
        },
        {
          "output_type": "display_data",
          "data": {
            "text/plain": [
              "<Figure size 640x480 with 1 Axes>"
            ],
            "image/png": "[encoded data removed]"
          },
          "metadata": {}
        }
      ],
      "source": [
        "# TODO: Perform data exploration\n",
        "print(data.info())\n",
        "print(data.describe())\n",
        "\n",
        "# Check for missing values\n",
        "print(data.isnull().sum())\n",
        "\n",
        "# Visualize the distribution of the target variable (credit.policy)\n",
        "sns.countplot(x='credit.policy', data=data)\n",
        "plt.title('Distribution of credit.policy')\n",
        "plt.show()"
      ]
    },
    {
      "cell_type": "markdown",
      "id": "data-preprocessing",
      "metadata": {
        "id": "data-preprocessing"
      },
      "source": [
        "## 2. Data Preprocessing\n",
        "\n",
        "Prepare the data for modeling:\n",
        "\n",
        "- Handle missing values if there are any.\n",
        "- Convert categorical variables (e.g., `purpose`) to numerical values using techniques like one-hot encoding.\n",
        "- Scale or transform features if needed."
      ]
    },
    {
      "cell_type": "code",
      "execution_count": null,
      "id": "preprocessing-code",
      "metadata": {
        "colab": {
          "base_uri": "https://localhost:8080/"
        },
        "id": "preprocessing-code",
        "outputId": "7932f374-be7b-4cb5-eea7-74fef59697a6"
      },
      "outputs": [
        {
          "output_type": "stream",
          "name": "stdout",
          "text": [
            "   credit.policy  int.rate  installment  log.annual.inc    dti  fico  \\\n",
            "0              1    0.1189       829.10       11.350407  19.48   737   \n",
            "1              1    0.1071       228.22       11.082143  14.29   707   \n",
            "2              1    0.1357       366.86       10.373491  11.63   682   \n",
            "3              1    0.1008       162.34       11.350407   8.10   712   \n",
            "4              1    0.1426       102.92       11.299732  14.97   667   \n",
            "\n",
            "   days.with.cr.line  revol.bal  revol.util  inq.last.6mths  delinq.2yrs  \\\n",
            "0        5639.958333      28854        52.1               0            0   \n",
            "1        2760.000000      33623        76.7               0            0   \n",
            "2        4710.000000       3511        25.6               1            0   \n",
            "3        2699.958333      33667        73.2               1            0   \n",
            "4        4066.000000       4740        39.5               0            1   \n",
            "\n",
            "   pub.rec  not.fully.paid  purpose_credit_card  purpose_debt_consolidation  \\\n",
            "0        0               0                False                        True   \n",
            "1        0               0                 True                       False   \n",
            "2        0               0                False                        True   \n",
            "3        0               0                False                        True   \n",
            "4        0               0                 True                       False   \n",
            "\n",
            "   purpose_educational  purpose_home_improvement  purpose_major_purchase  \\\n",
            "0                False                     False                   False   \n",
            "1                False                     False                   False   \n",
            "2                False                     False                   False   \n",
            "3                False                     False                   False   \n",
            "4                False                     False                   False   \n",
            "\n",
            "   purpose_small_business  \n",
            "0                   False  \n",
            "1                   False  \n",
            "2                   False  \n",
            "3                   False  \n",
            "4                   False  \n"
          ]
        }
      ],
      "source": [
        "# TODO: Preprocess the data\n",
        "## Example: One-hot encoding for the 'purpose' column\n",
        "data = pd.get_dummies(data, columns=['purpose'], drop_first=True)\n",
        "\n",
        "# Verify the changes\n",
        "print(data.head())"
      ]
    },
    {
      "cell_type": "markdown",
      "id": "feature-engineering",
      "metadata": {
        "id": "feature-engineering"
      },
      "source": [
        "## 3. Feature Engineering\n",
        "\n",
        "Enhance the dataset by creating or transforming features that could help improve model performance. Consider:\n",
        "\n",
        "- Interactions between features\n",
        "- Derived features based on domain knowledge\n",
        "- Any other transformation that might help the model\n",
        "\n",
        "Document your feature engineering steps and rationale."
      ]
    },
    {
      "cell_type": "code",
      "execution_count": null,
      "id": "feature-engineering-code",
      "metadata": {
        "colab": {
          "base_uri": "https://localhost:8080/"
        },
        "id": "feature-engineering-code",
        "outputId": "25f62bbc-34b6-444a-c72d-77f1d50df023"
      },
      "outputs": [
        {
          "output_type": "stream",
          "name": "stdout",
          "text": [
            "   credit.policy  int.rate  installment  log.annual.inc    dti  fico  \\\n",
            "0              1    0.1189       829.10       11.350407  19.48   737   \n",
            "1              1    0.1071       228.22       11.082143  14.29   707   \n",
            "2              1    0.1357       366.86       10.373491  11.63   682   \n",
            "3              1    0.1008       162.34       11.350407   8.10   712   \n",
            "4              1    0.1426       102.92       11.299732  14.97   667   \n",
            "\n",
            "   days.with.cr.line  revol.bal  revol.util  inq.last.6mths  delinq.2yrs  \\\n",
            "0        5639.958333      28854        52.1               0            0   \n",
            "1        2760.000000      33623        76.7               0            0   \n",
            "2        4710.000000       3511        25.6               1            0   \n",
            "3        2699.958333      33667        73.2               1            0   \n",
            "4        4066.000000       4740        39.5               0            1   \n",
            "\n",
            "   pub.rec  not.fully.paid  purpose_credit_card  purpose_debt_consolidation  \\\n",
            "0        0               0                False                        True   \n",
            "1        0               0                 True                       False   \n",
            "2        0               0                False                        True   \n",
            "3        0               0                False                        True   \n",
            "4        0               0                 True                       False   \n",
            "\n",
            "   purpose_educational  purpose_home_improvement  purpose_major_purchase  \\\n",
            "0                False                     False                   False   \n",
            "1                False                     False                   False   \n",
            "2                False                     False                   False   \n",
            "3                False                     False                   False   \n",
            "4                False                     False                   False   \n",
            "\n",
            "   purpose_small_business  not_fully_paid  \n",
            "0                   False               1  \n",
            "1                   False               0  \n",
            "2                   False               0  \n",
            "3                   False               0  \n",
            "4                   False               0  \n"
          ]
        }
      ],
      "source": [
        "# TODO: Perform feature engineering\n",
        "\n",
        "# Example: Create a new feature (if applicable)\n",
        " #data['new_feature'] = data['installment'] / data['log.annual.inc']\n",
        "data['not_fully_paid'] = (data['days.with.cr.line'] > 5000).astype(int)\n",
        "\n",
        "\n",
        "# Check the new features\n",
        "print(data.head())"
      ]
    },
    {
      "cell_type": "markdown",
      "id": "model-training",
      "metadata": {
        "id": "model-training"
      },
      "source": [
        "## 4. Model Selection and Training\n",
        "\n",
        "Split the data into training and testing sets, and train your model(s). Consider using multiple models such as Logistic Regression, Random Forest, or other suitable algorithms. Use cross-validation to assess model robustness."
      ]
    },
    {
      "cell_type": "code",
      "execution_count": null,
      "id": "model-training-code",
      "metadata": {
        "colab": {
          "base_uri": "https://localhost:8080/"
        },
        "id": "model-training-code",
        "outputId": "b5c4be0d-a77e-417a-d2f8-af960833f520"
      },
      "outputs": [
        {
          "output_type": "stream",
          "name": "stdout",
          "text": [
            "Accuracy: 0.8987473903966597\n",
            "Precision: 0.9064632677639503\n",
            "Recall: 0.9749568221070811\n",
            "F1 Score: 0.9394632827127106\n"
          ]
        },
        {
          "output_type": "stream",
          "name": "stderr",
          "text": [
            "/usr/local/lib/python3.11/dist-packages/sklearn/linear_model/_logistic.py:465: ConvergenceWarning: lbfgs failed to converge (status=1):\n",
            "STOP: TOTAL NO. OF ITERATIONS REACHED LIMIT.\n",
            "\n",
            "Increase the number of iterations (max_iter) or scale the data as shown in:\n",
            "    https://scikit-learn.org/stable/modules/preprocessing.html\n",
            "Please also refer to the documentation for alternative solver options:\n",
            "    https://scikit-learn.org/stable/modules/linear_model.html#logistic-regression\n",
            "  n_iter_i = _check_optimize_result(\n"
          ]
        }
      ],
      "source": [
        "# Split the data into features and target\n",
        "X = data.drop('credit.policy', axis=1)\n",
        "y = data['credit.policy']\n",
        "\n",
        "# Split the dataset into training and testing sets\n",
        "X_train, X_test, y_train, y_test = train_test_split(X, y, test_size=0.3, random_state=42)\n",
        "\n",
        "# TODO: Train your models\n",
        "## Example with Logistic Regression\n",
        "logreg = LogisticRegression(max_iter=1000)\n",
        "logreg.fit(X_train, y_train)\n",
        "\n",
        "# Evaluate the model on the testing set\n",
        "y_pred = logreg.predict(X_test)\n",
        "print('Accuracy:', accuracy_score(y_test, y_pred))\n",
        "print('Precision:', precision_score(y_test, y_pred))\n",
        "print('Recall:', recall_score(y_test, y_pred))\n",
        "print('F1 Score:', f1_score(y_test, y_pred))\n",
        "\n",
        "# TODO: Try additional models (e.g., Random Forest, Gradient Boosting) and compare performance\n"
      ]
    },
    {
      "cell_type": "code",
      "source": [
        "from sklearn.ensemble import GradientBoostingClassifier\n",
        "\n",
        "# TODO: Try additional models (e.g., Random Forest, Gradient Boosting) and compare performance\n",
        "\n",
        "## Add Gradient Boosting Model\n",
        "gb = GradientBoostingClassifier(random_state=42)\n",
        "gb.fit(X_train, y_train)\n",
        "\n",
        "# Evaluate the Gradient Boosting model on the testing set\n",
        "y_pred_gb = gb.predict(X_test)\n",
        "\n",
        "print('Gradient Boosting Accuracy:', accuracy_score(y_test, y_pred_gb))\n",
        "print('Gradient Boosting Precision:', precision_score(y_test, y_pred_gb))\n",
        "print('Gradient Boosting Recall:', recall_score(y_test, y_pred_gb))\n",
        "print('Gradient Boosting F1 Score:', f1_score(y_test, y_pred_gb))\n",
        "print('Gradient Boosting ROC AUC:', roc_auc_score(y_test, gb.predict_proba(X_test)[:, 1]))"
      ],
      "metadata": {
        "colab": {
          "base_uri": "https://localhost:8080/"
        },
        "id": "HBvcwBeR_h3d",
        "outputId": "afd0302f-18d7-4db2-e131-aa866606e4ff"
      },
      "id": "HBvcwBeR_h3d",
      "execution_count": null,
      "outputs": [
        {
          "output_type": "stream",
          "name": "stdout",
          "text": [
            "Gradient Boosting Accuracy: 0.9895615866388309\n",
            "Gradient Boosting Precision: 0.9901372212692967\n",
            "Gradient Boosting Recall: 0.9969775474956822\n",
            "Gradient Boosting F1 Score: 0.9935456110154905\n",
            "Gradient Boosting ROC AUC: 0.995736376523607\n"
          ]
        }
      ]
    },
    {
      "cell_type": "markdown",
      "id": "model-evaluation",
      "metadata": {
        "id": "model-evaluation"
      },
      "source": [
        "## 5. Model Evaluation and Testing\n",
        "\n",
        "Assess your model using various metrics such as:\n",
        "\n",
        "- Accuracy\n",
        "- Precision\n",
        "- Recall\n",
        "- F1 Score\n",
        "- ROC-AUC\n",
        "\n",
        "Plot confusion matrices and ROC curves as needed."
      ]
    },
    {
      "cell_type": "code",
      "execution_count": null,
      "id": "evaluation-code",
      "metadata": {
        "colab": {
          "base_uri": "https://localhost:8080/",
          "height": 628
        },
        "id": "evaluation-code",
        "outputId": "1e43b68f-8082-4ecc-b8e6-a1a72a6a6c94"
      },
      "outputs": [
        {
          "output_type": "display_data",
          "data": {
            "text/plain": [
              "<Figure size 640x480 with 2 Axes>"
            ],
            "image/png": "[encoded data removed]"
          },
          "metadata": {}
        },
        {
          "output_type": "stream",
          "name": "stdout",
          "text": [
            "              precision    recall  f1-score   support\n",
            "\n",
            "           0       0.84      0.58      0.68       558\n",
            "           1       0.90      0.97      0.94      2316\n",
            "\n",
            "    accuracy                           0.90      2874\n",
            "   macro avg       0.87      0.77      0.81      2874\n",
            "weighted avg       0.89      0.90      0.89      2874\n",
            "\n"
          ]
        }
      ],
      "source": [
        "# TODO: Evaluate your model further\n",
        "# Confusion Matrix\n",
        "cm = confusion_matrix(y_test, y_pred)\n",
        "sns.heatmap(cm, annot=True, fmt='d', cmap='Blues')\n",
        "plt.title('Confusion Matrix')\n",
        "plt.xlabel('Predicted')\n",
        "plt.ylabel('Actual')\n",
        "plt.show()\n",
        "\n",
        "# Classification Report\n",
        "print(classification_report(y_test, y_pred))"
      ]
    },
    {
      "cell_type": "markdown",
      "id": "interpretation",
      "metadata": {
        "id": "interpretation"
      },
      "source": [
        "## 6. Model Interpretation and Insights\n",
        "\n",
        "Discuss the following:\n",
        "\n",
        "- Which features are most important in predicting loan default?\n",
        "- What business insights can be drawn from your model?\n",
        "\n",
        "Provide clear interpretations and, if possible, visualize feature importance."
      ]
    },
    {
      "cell_type": "code",
      "execution_count": null,
      "id": "interpretation-code",
      "metadata": {
        "id": "interpretation-code",
        "colab": {
          "base_uri": "https://localhost:8080/",
          "height": 452
        },
        "outputId": "055bf7dd-c80d-4ff1-c25f-b3e5b5eba3d8"
      },
      "outputs": [
        {
          "output_type": "display_data",
          "data": {
            "text/plain": [
              "<Figure size 640x480 with 1 Axes>"
            ],
            "image/png": "[encoded data removed]"
          },
          "metadata": {}
        }
      ],
      "source": [
        "# TODO: Interpret model results\n",
        "\n",
        "# Example for a tree-based model (if used):\n",
        "from sklearn.ensemble import RandomForestClassifier\n",
        "model = RandomForestClassifier()\n",
        "model.fit(X_train, y_train)\n",
        "feature_importances = pd.Series(model.feature_importances_, index=X_train.columns)\n",
        "feature_importances.sort_values().plot(kind='barh')\n",
        "plt.title('Feature Importances')\n",
        "plt.show()"
      ]
    },
    {
      "cell_type": "code",
      "source": [],
      "metadata": {
        "id": "IPlxQFEp93qY"
      },
      "id": "IPlxQFEp93qY",
      "execution_count": null,
      "outputs": []
    },
    {
      "source": [
        "from sklearn.ensemble import RandomForestClassifier\n",
        "from sklearn.model_selection import GridSearchCV\n",
        "from sklearn.metrics import roc_auc_score, precision_score, recall_score, f1_score, accuracy_score\n",
        "# Import SMOTE for oversampling\n",
        "from imblearn.over_sampling import SMOTE\n",
        "\n",
        "# Set up the model and hyperparameters\n",
        "rf = RandomForestClassifier(random_state=42)\n",
        "param_grid = {\n",
        "    'n_estimators': [100, 200],\n",
        "    'max_depth': [4, 6, 8],\n",
        "    'min_samples_split': [2, 5],\n",
        "    'min_samples_leaf': [1, 2],\n",
        "}\n",
        "\n",
        "# Run GridSearch on original training data\n",
        "\n",
        "def run_gridsearch(X_train, y_train, param_grid):\n",
        "    rf = RandomForestClassifier(random_state=42)\n",
        "    grid_search = GridSearchCV(estimator=rf, param_grid=param_grid,\n",
        "                               scoring='roc_auc', cv=3, verbose=1, n_jobs=-1)\n",
        "    grid_search.fit(X_train, y_train)\n",
        "    return grid_search\n",
        "\n",
        "    # For original training data\n",
        "grid_original = run_gridsearch(X_train, y_train, param_grid)\n",
        "\n",
        "# For SMOTE-resampled training data\n",
        "\n",
        "from imblearn.over_sampling import SMOTE\n",
        "\n",
        "sm = SMOTE(random_state=42)\n",
        "X_resampled, y_resampled = sm.fit_resample(X_train, y_train)\n",
        "\n",
        "grid_resampled = run_gridsearch(X_resampled, y_resampled, param_grid)\n",
        "\n",
        "# Best models\n",
        "best_rf_original = grid_original.best_estimator_\n",
        "best_rf_resampled = grid_resampled.best_estimator_\n",
        "\n",
        "\n",
        "# Fit GridSearch to resampled data\n",
        "# NOTE: It is generally better to perform resampling within the cross-validation loop\n",
        "# to avoid data leakage. However, to match the user's apparent intent of fitting\n",
        "# after resampling, we will fit the GridSearchCV object on the resampled data here.\n",
        "# For a more robust approach, consider using Pipeline with resampling and GridSearchCV.\n",
        "grid_search_resampled = GridSearchCV(estimator=rf, param_grid=param_grid,\n",
        "                           scoring='roc_auc', cv=3, verbose=1, n_jobs=-1)\n",
        "\n",
        "grid_search_resampled.fit(X_resampled, y_resampled)\n",
        "\n",
        "# Best model from resampling\n",
        "best_rf = grid_search_resampled.best_estimator_\n",
        "\n",
        "# Evaluate the best model from resampling\n",
        "# Predict probabilities on the original, untouched test set\n",
        "y_pred_proba_resampled = best_rf.predict_proba(X_test)[:, 1]\n",
        "auc_score_resampled = roc_auc_score(y_test, y_pred_proba_resampled)\n",
        "print(\"Best AUC Score after GridSearch on Resampled Data:\", auc_score_resampled)\n",
        "print(\" Best Parameters after Resampling:\", grid_search_resampled.best_params_)\n",
        "\n",
        "# Optionally, evaluate the best model from the initial grid search on original data as well\n",
        "best_rf_original = grid_original.best_estimator_\n",
        "y_pred_proba_original = best_rf_original.predict_proba(X_test)[:, 1]\n",
        "auc_score_original = roc_auc_score(y_test, y_pred_proba_original)\n",
        "print(\"Best AUC Score after GridSearch on Original Data:\", auc_score_original)\n",
        "print(\" Best Parameters on Original Data:\", grid_original.best_params_)\n"
      ],
      "cell_type": "code",
      "metadata": {
        "colab": {
          "base_uri": "https://localhost:8080/",
          "height": 0
        },
        "id": "ok8bpOnR_n1y",
        "outputId": "d37c5197-3eaa-422a-939c-e0773012a712"
      },
      "id": "ok8bpOnR_n1y",
      "execution_count": 16,
      "outputs": [
        {
          "output_type": "stream",
          "name": "stdout",
          "text": [
            "Fitting 3 folds for each of 24 candidates, totalling 72 fits\n",
            "Fitting 3 folds for each of 24 candidates, totalling 72 fits\n",
            "Fitting 3 folds for each of 24 candidates, totalling 72 fits\n",
            "Best AUC Score after GridSearch on Resampled Data: 0.9864299156251354\n",
            " Best Parameters after Resampling: {'max_depth': 8, 'min_samples_leaf': 1, 'min_samples_split': 5, 'n_estimators': 100}\n",
            "Best AUC Score after GridSearch on Original Data: 0.9914944193734099\n",
            " Best Parameters on Original Data: {'max_depth': 8, 'min_samples_leaf': 1, 'min_samples_split': 2, 'n_estimators': 200}\n"
          ]
        }
      ]
    },
    {
      "source": [
        "from sklearn.ensemble import RandomForestClassifier\n",
        "from sklearn.model_selection import GridSearchCV\n",
        "from sklearn.metrics import roc_auc_score, precision_score, recall_score, f1_score, accuracy_score, roc_curve\n",
        "import matplotlib.pyplot as plt\n",
        "\n",
        "# Assuming 'best_rf' is the trained Random Forest model from the previous cell\n",
        "# that you want to use for the ROC curve.\n",
        "# If you want to use a different trained model, replace 'best_rf' with the correct variable name.\n",
        "rf_probs = best_rf.predict_proba(X_test)[:,1]\n",
        "fpr, tpr, thresholds = roc_curve(y_test, rf_probs)\n",
        "\n",
        "plt.plot(fpr, tpr, label='Random Forest')\n",
        "plt.plot([0,1],[0,1],'k--')\n",
        "plt.xlabel('False Positive Rate')\n",
        "plt.ylabel('True Positive Rate')\n",
        "plt.title('ROC Curve')\n",
        "plt.legend()\n",
        "plt.show()\n",
        "\n",
        "print(\"AUC Score: \", roc_auc_score(y_test, rf_probs))"
      ],
      "cell_type": "code",
      "metadata": {
        "colab": {
          "base_uri": "https://localhost:8080/",
          "height": 489
        },
        "id": "kwo6U1MPCGX3",
        "outputId": "d3e128c1-3c8a-48a8-daa2-0b00adf0527e"
      },
      "id": "kwo6U1MPCGX3",
      "execution_count": 17,
      "outputs": [
        {
          "output_type": "display_data",
          "data": {
            "text/plain": [
              "<Figure size 640x480 with 1 Axes>"
            ],
            "image/png": "[encoded data removed]"
          },
          "metadata": {}
        },
        {
          "output_type": "stream",
          "name": "stdout",
          "text": [
            "AUC Score:  0.9864299156251354\n"
          ]
        }
      ]
    }
  ],
  "metadata": {
    "kernelspec": {
      "display_name": "Python 3",
      "language": "python",
      "name": "python3"
    },
    "language_info": {
      "name": "python",
      "version": "3.x"
    },
    "colab": {
      "provenance": []
    }
  },
  "nbformat": 4,
  "nbformat_minor": 5
}